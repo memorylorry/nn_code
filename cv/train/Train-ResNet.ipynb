{
 "cells": [
  {
   "cell_type": "code",
   "execution_count": 1,
   "metadata": {},
   "outputs": [],
   "source": [
    "import torch\n",
    "import torch.nn as nn\n",
    "import numpy as np\n",
    "import torchvision\n",
    "import torchvision.transforms as transforms\n",
    "import torch.nn.functional as F\n",
    "\n",
    "import os\n",
    "import sys"
   ]
  },
  {
   "cell_type": "code",
   "execution_count": 2,
   "metadata": {},
   "outputs": [
    {
     "data": {
      "text/plain": [
       "['/home/huqian',\n",
       " '/home/huqian/anaconda3/lib/python38.zip',\n",
       " '/home/huqian/anaconda3/lib/python3.8',\n",
       " '/home/huqian/anaconda3/lib/python3.8/lib-dynload',\n",
       " '',\n",
       " '/home/huqian/anaconda3/lib/python3.8/site-packages',\n",
       " '/home/huqian/anaconda3/lib/python3.8/site-packages/IPython/extensions',\n",
       " '/home/huqian/.ipython',\n",
       " '/home/huqian/data/py_code/cv/train']"
      ]
     },
     "execution_count": 2,
     "metadata": {},
     "output_type": "execute_result"
    }
   ],
   "source": [
    "# 将当前目录添加到path\n",
    "sys.path.append('/home/huqian/data/py_code/cv/train')\n",
    "sys.path"
   ]
  },
  {
   "cell_type": "code",
   "execution_count": 3,
   "metadata": {},
   "outputs": [],
   "source": [
    "# from test.LossTrace import LossTrace\n",
    "from utils.LossTrace import LossTrace\n",
    "train_trace = LossTrace()\n",
    "test_trace = LossTrace()"
   ]
  },
  {
   "cell_type": "markdown",
   "metadata": {},
   "source": [
    "### 1. Load Data"
   ]
  },
  {
   "cell_type": "code",
   "execution_count": 4,
   "metadata": {},
   "outputs": [
    {
     "name": "stdout",
     "output_type": "stream",
     "text": [
      "Files already downloaded and verified\n",
      "Files already downloaded and verified\n"
     ]
    }
   ],
   "source": [
    "root ='data/datasets'\n",
    "\n",
    "device = torch.device(\"cuda\" if torch.cuda.is_available() else \"cpu\")\n",
    "transform = transforms.Compose(\n",
    "    [transforms.ToTensor(),\n",
    "     transforms.Normalize((0.5, 0.5, 0.5), (0.5, 0.5, 0.5))])\n",
    "trainset = torchvision.datasets.CIFAR10(root,train=True,transform=transform,download=True)\n",
    "trainloader = torch.utils.data.DataLoader(\n",
    "                                            trainset,\n",
    "                                            batch_size=512,\n",
    "                                            shuffle=True,\n",
    "                                            num_workers=2\n",
    "                                        )\n",
    "\n",
    "transform = transforms.Compose(\n",
    "    [transforms.ToTensor(),\n",
    "     transforms.Normalize((0.5, 0.5, 0.5), (0.5, 0.5, 0.5))])\n",
    "testset = torchvision.datasets.CIFAR10(root,train=False,transform=transform,download=True)\n",
    "testloader = torch.utils.data.DataLoader(\n",
    "                                            testset,\n",
    "                                            batch_size=512,\n",
    "                                            shuffle=True,\n",
    "                                            num_workers=2\n",
    "                                        )"
   ]
  },
  {
   "cell_type": "code",
   "execution_count": 5,
   "metadata": {},
   "outputs": [],
   "source": [
    "### 2. model optimizer ad lossfn"
   ]
  },
  {
   "cell_type": "code",
   "execution_count": 6,
   "metadata": {},
   "outputs": [
    {
     "name": "stderr",
     "output_type": "stream",
     "text": [
      "Downloading: \"https://download.pytorch.org/models/resnet152-b121ed2d.pth\" to /home/huqian/.cache/torch/hub/checkpoints/resnet152-b121ed2d.pth\n"
     ]
    },
    {
     "data": {
      "application/vnd.jupyter.widget-view+json": {
       "model_id": "023d63a6d2f949a489c965170d627cfa",
       "version_major": 2,
       "version_minor": 0
      },
      "text/plain": [
       "HBox(children=(FloatProgress(value=0.0, max=241530880.0), HTML(value='')))"
      ]
     },
     "metadata": {},
     "output_type": "display_data"
    },
    {
     "name": "stdout",
     "output_type": "stream",
     "text": [
      "\n"
     ]
    }
   ],
   "source": [
    "# prepare model\n",
    "model = torchvision.models.resnet152(pretrained=True, progress=True)\n",
    "model.to(device)\n",
    "\n",
    "# prepare optimizer and loss\n",
    "optimizer = torch.optim.SGD(model.parameters(),lr=0.02,momentum=0.02)\n",
    "criterion = torch.nn.CrossEntropyLoss()"
   ]
  },
  {
   "cell_type": "markdown",
   "metadata": {},
   "source": [
    "### 3. Common Part"
   ]
  },
  {
   "cell_type": "code",
   "execution_count": 7,
   "metadata": {},
   "outputs": [],
   "source": [
    "def count_loss(loader):\n",
    "    # loader cannot be None\n",
    "    if loader is None:\n",
    "        warnings.warn('loader cannot be None!')\n",
    "        return -13\n",
    "\n",
    "    full = 0\n",
    "    err = 0\n",
    "\n",
    "    for i, data in enumerate(loader, 0):\n",
    "        inputs, labels = data[0].to(device), data[1].to(device)\n",
    "        output = model(inputs)\n",
    "        prob, index = torch.max(F.softmax(output), dim=1)\n",
    "        dif = index - labels\n",
    "\n",
    "        full += index.size()[0]\n",
    "        err += dif[dif != 0].size()[0]\n",
    "\n",
    "    rate = round(err / full * 100, 4)\n",
    "    return rate"
   ]
  },
  {
   "cell_type": "markdown",
   "metadata": {},
   "source": [
    "### 4. Train Step"
   ]
  },
  {
   "cell_type": "code",
   "execution_count": 8,
   "metadata": {},
   "outputs": [],
   "source": [
    "# param\n",
    "model_name = 'resnet.pkl'\n",
    "epoch_base = 0\n",
    "epoch_steps = 10"
   ]
  },
  {
   "cell_type": "code",
   "execution_count": 24,
   "metadata": {},
   "outputs": [
    {
     "name": "stdout",
     "output_type": "stream",
     "text": [
      "epoch  81, round  20 loss: 0.0001003\n",
      "epoch  81, round  40 loss: 0.0001055\n",
      "epoch  81, round  60 loss: 0.0001089\n",
      "epoch  81, round  80 loss: 0.0001782\n",
      "epoch  82, round  20 loss: 0.0001147\n",
      "epoch  82, round  40 loss: 0.0000746\n",
      "epoch  82, round  60 loss: 0.0000903\n",
      "epoch  82, round  80 loss: 0.0001052\n",
      "epoch  83, round  20 loss: 0.0001019\n",
      "epoch  83, round  40 loss: 0.0000955\n",
      "epoch  83, round  60 loss: 0.0000759\n",
      "epoch  83, round  80 loss: 0.0001179\n",
      "epoch  84, round  20 loss: 0.0000919\n",
      "epoch  84, round  40 loss: 0.0000609\n",
      "epoch  84, round  60 loss: 0.0000890\n",
      "epoch  84, round  80 loss: 0.0000739\n",
      "epoch  85, round  20 loss: 0.0000934\n",
      "epoch  85, round  40 loss: 0.0002929\n",
      "epoch  85, round  60 loss: 0.0001421\n",
      "epoch  85, round  80 loss: 0.0000975\n",
      "epoch  86, round  20 loss: 0.0000846\n",
      "epoch  86, round  40 loss: 0.0002141\n",
      "epoch  86, round  60 loss: 0.0001586\n",
      "epoch  86, round  80 loss: 0.0001959\n",
      "epoch  87, round  20 loss: 0.0000801\n",
      "epoch  87, round  40 loss: 0.0012373\n",
      "epoch  87, round  60 loss: 0.0001278\n",
      "epoch  87, round  80 loss: 0.0002562\n",
      "epoch  88, round  20 loss: 0.0001584\n",
      "epoch  88, round  40 loss: 0.0001099\n",
      "epoch  88, round  60 loss: 0.0001527\n",
      "epoch  88, round  80 loss: 0.0001288\n",
      "epoch  89, round  20 loss: 0.0001703\n",
      "epoch  89, round  40 loss: 0.0008636\n",
      "epoch  89, round  60 loss: 0.0002002\n",
      "epoch  89, round  80 loss: 0.0001238\n",
      "epoch  90, round  20 loss: 0.0001126\n",
      "epoch  90, round  40 loss: 0.0001382\n",
      "epoch  90, round  60 loss: 0.0006410\n",
      "epoch  90, round  80 loss: 0.0003002\n"
     ]
    },
    {
     "name": "stderr",
     "output_type": "stream",
     "text": [
      "<ipython-input-7-a0cbc99013aa>:13: UserWarning: Implicit dimension choice for softmax has been deprecated. Change the call to include dim=X as an argument.\n",
      "  prob, index = torch.max(F.softmax(output), dim=1)\n"
     ]
    }
   ],
   "source": [
    "# check if it exist, if True then load it\n",
    "flag = os.path.exists(model_name)\n",
    "if flag:\n",
    "    sd = torch.load(model_name)\n",
    "    model.load_state_dict(sd)\n",
    "\n",
    "# Train\n",
    "for epoch in range(epoch_steps):\n",
    "    running_loss = 0\n",
    "    for i, data in enumerate(trainloader, 0):\n",
    "        inputs, labels = data[0].to(device), data[1].to(device)\n",
    "\n",
    "        optimizer.zero_grad()\n",
    "        output = model(inputs)\n",
    "        loss = criterion(output, labels)\n",
    "        running_loss += loss.item()\n",
    "\n",
    "        loss.backward()\n",
    "        optimizer.step()\n",
    "\n",
    "        if i % 20 == 19:\n",
    "            print('epoch %3d, round %3d loss: %.7f' %\n",
    "                (epoch + epoch_base + 1, i + 1, running_loss / 20))\n",
    "            running_loss = 0.0\n",
    "            \n",
    "        \n",
    "            \n",
    "            \n",
    "# Save Model\n",
    "torch.save(model.state_dict(),model_name)\n",
    "\n",
    "# store train loss and test loss\n",
    "epoch_idx = epoch + epoch_base + 1\n",
    "train_loss = count_loss(trainloader)\n",
    "test_loss = count_loss(testloader)\n",
    "train_trace.append(epoch_idx,train_loss)\n",
    "test_trace.append(epoch_idx,test_loss)\n",
    "\n",
    "# modify params\n",
    "epoch_base += epoch_steps"
   ]
  },
  {
   "cell_type": "markdown",
   "metadata": {},
   "source": [
    "### 5. Plot Step"
   ]
  },
  {
   "cell_type": "code",
   "execution_count": 25,
   "metadata": {},
   "outputs": [
    {
     "data": {
      "text/plain": [
       "[<matplotlib.lines.Line2D at 0x7f52b6284190>]"
      ]
     },
     "execution_count": 25,
     "metadata": {},
     "output_type": "execute_result"
    },
    {
     "data": {
      "image/png": "[encoded data removed]",
      "text/plain": [
       "<Figure size 1440x576 with 2 Axes>"
      ]
     },
     "metadata": {
      "needs_background": "light"
     },
     "output_type": "display_data"
    }
   ],
   "source": [
    "import matplotlib.pyplot as plt\n",
    "plt.figure(figsize=(20,8))\n",
    "plt.subplot(1,2,1)\n",
    "plt.title('Train Precision')\n",
    "plt.xlabel('epoch')\n",
    "plt.ylabel('Nagetive Rate (%)')\n",
    "train_epoch, train_loss = train_trace.fetch()\n",
    "plt.plot(train_epoch, train_loss,'r-')\n",
    "plt.subplot(1,2,2)\n",
    "plt.title('Test Precision')\n",
    "plt.xlabel('epoch')\n",
    "plt.ylabel('Nagetive Rate (%)')\n",
    "test_epoch, test_loss = test_trace.fetch()\n",
    "plt.plot(test_epoch, test_loss,'b-')"
   ]
  },
  {
   "cell_type": "code",
   "execution_count": 26,
   "metadata": {},
   "outputs": [
    {
     "name": "stderr",
     "output_type": "stream",
     "text": [
      "<ipython-input-7-a0cbc99013aa>:13: UserWarning: Implicit dimension choice for softmax has been deprecated. Change the call to include dim=X as an argument.\n",
      "  prob, index = torch.max(F.softmax(output), dim=1)\n"
     ]
    },
    {
     "name": "stdout",
     "output_type": "stream",
     "text": [
      "Test loss is :  21.52 %\n"
     ]
    }
   ],
   "source": [
    "print(\"Test loss is : \",count_loss(testloader),\"%\")"
   ]
  },
  {
   "cell_type": "code",
   "execution_count": null,
   "metadata": {},
   "outputs": [],
   "source": []
  }
 ],
 "metadata": {
  "kernelspec": {
   "display_name": "Python 3",
   "language": "python",
   "name": "python3"
  },
  "language_info": {
   "codemirror_mode": {
    "name": "ipython",
    "version": 3
   },
   "file_extension": ".py",
   "mimetype": "text/x-python",
   "name": "python",
   "nbconvert_exporter": "python",
   "pygments_lexer": "ipython3",
   "version": "3.8.3"
  }
 },
 "nbformat": 4,
 "nbformat_minor": 4
}
