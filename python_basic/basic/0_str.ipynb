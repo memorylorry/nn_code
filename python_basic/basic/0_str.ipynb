{
 "cells": [
  {
   "cell_type": "markdown",
   "metadata": {},
   "source": [
    "## 字符串操作"
   ]
  },
  {
   "cell_type": "markdown",
   "metadata": {},
   "source": [
    "### 1. 义字符串的方式"
   ]
  },
  {
   "cell_type": "code",
   "execution_count": 2,
   "metadata": {},
   "outputs": [
    {
     "name": "stdout",
     "output_type": "stream",
     "text": [
      " hello world \n",
      "我可以为'你'做什么\n",
      "我可以为\"你\"做什么\n"
     ]
    }
   ],
   "source": [
    "msg1 = ' hello world '\n",
    "msg2 = \"我可以为'你'做什么\"\n",
    "msg3 = '我可以为\"你\"做什么'\n",
    "msg4 = 'hello world'\n",
    "print(msg1)\n",
    "print(msg2)\n",
    "print(msg3)"
   ]
  },
  {
   "cell_type": "markdown",
   "metadata": {},
   "source": [
    "### 2. 修改字符串的大小写"
   ]
  },
  {
   "cell_type": "code",
   "execution_count": 3,
   "metadata": {},
   "outputs": [
    {
     "name": "stdout",
     "output_type": "stream",
     "text": [
      " Hello World \n",
      " HELLO WORLD \n",
      " hello world \n"
     ]
    }
   ],
   "source": [
    "print(msg1.title())\n",
    "print(msg1.upper())\n",
    "print(msg1.lower())"
   ]
  },
  {
   "cell_type": "markdown",
   "metadata": {},
   "source": [
    "### 3. 拼接字符串"
   ]
  },
  {
   "cell_type": "code",
   "execution_count": 5,
   "metadata": {},
   "outputs": [
    {
     "name": "stdout",
     "output_type": "stream",
     "text": [
      " hello world 我可以为'你'做什么\n"
     ]
    }
   ],
   "source": [
    "print(msg1+msg2)"
   ]
  },
  {
   "cell_type": "markdown",
   "metadata": {},
   "source": [
    "### 4. 使用字表位和换行符"
   ]
  },
  {
   "cell_type": "code",
   "execution_count": 6,
   "metadata": {},
   "outputs": [
    {
     "name": "stdout",
     "output_type": "stream",
     "text": [
      " hello world \t我可以为'你'做什么\n",
      " hello world \n",
      "我可以为'你'做什么\n"
     ]
    }
   ],
   "source": [
    "print(msg1+'\\t'+msg2)\n",
    "print(msg1+'\\n'+msg2)"
   ]
  },
  {
   "cell_type": "markdown",
   "metadata": {},
   "source": [
    "### 5. 删除字符串的空白"
   ]
  },
  {
   "cell_type": "code",
   "execution_count": 7,
   "metadata": {},
   "outputs": [
    {
     "name": "stdout",
     "output_type": "stream",
     "text": [
      " hello world\n",
      "hello world \n",
      "hello world\n",
      "ello world\n"
     ]
    }
   ],
   "source": [
    "print(msg1.rstrip()) # 去除右边的空格\n",
    "print(msg1.lstrip()) # 去除左边的空格\n",
    "print(msg1.strip()) # 去除左右两边的空格\n",
    "print(msg4.strip('h')) # 去除两边的指定字符串"
   ]
  },
  {
   "cell_type": "markdown",
   "metadata": {},
   "source": [
    "### 6. 其它常用函数"
   ]
  },
  {
   "cell_type": "code",
   "execution_count": 8,
   "metadata": {},
   "outputs": [
    {
     "name": "stdout",
     "output_type": "stream",
     "text": [
      "helloworld\n"
     ]
    }
   ],
   "source": [
    "print(msg1.replace(' ',''))"
   ]
  },
  {
   "cell_type": "code",
   "execution_count": 9,
   "metadata": {},
   "outputs": [
    {
     "name": "stdout",
     "output_type": "stream",
     "text": [
      "13\n",
      "True\n",
      "True\n",
      "2\n",
      "-1\n"
     ]
    }
   ],
   "source": [
    "print(len(msg1)) # 返回串长\n",
    "print(msg4.startswith('hello'))\n",
    "print(msg4.endswith('world'))\n",
    "print(msg4.index('ll'))\n",
    "print(msg4.find('llx'))"
   ]
  },
  {
   "cell_type": "markdown",
   "metadata": {},
   "source": [
    "### 7. 字符串的类型判断"
   ]
  },
  {
   "cell_type": "markdown",
   "metadata": {},
   "source": [
    "#### isdigit()\n",
    "- True: Unicode数字，byte数字（单字节），全角数字（双字节）\n",
    "- False: 汉字数字，罗马数字,小数\n",
    "- Error: 无\n",
    "\n",
    "#### isdecimal()\n",
    "- True: Unicode数字，全角数字（双字节）\n",
    "- False: 罗马数字，汉字数字,小数\n",
    "- Error: byte数字（单字节）\n",
    "\n",
    "#### isnumeric()\n",
    "- True: Unicode数字，全角数字（双字节），罗马数字，汉字数字\n",
    "- False: 小数\n",
    "- Error: byte数字（单字节）"
   ]
  },
  {
   "cell_type": "code",
   "execution_count": 10,
   "metadata": {},
   "outputs": [
    {
     "name": "stdout",
     "output_type": "stream",
     "text": [
      "False\n",
      "True\n",
      "True\n"
     ]
    },
    {
     "data": {
      "text/plain": [
       "True"
      ]
     },
     "execution_count": 10,
     "metadata": {},
     "output_type": "execute_result"
    }
   ],
   "source": [
    "msg4.isalpha()\n",
    "print(msg4.isspace()) # Return True if the string is a whitespace string (Length is not 0!), False otherwise.\n",
    "print(msg4.isascii()) # return True if all characters in the string are ASCII, False otherwise.\n",
    "print('34'.isdecimal()) # Return True if the string is a decimal string (Length is not 0!), False otherwise.\n",
    "msg4.isdigit()\n",
    "msg4.isnumeric()\n",
    "msg4.isprintable()"
   ]
  },
  {
   "cell_type": "code",
   "execution_count": null,
   "metadata": {},
   "outputs": [],
   "source": []
  }
 ],
 "metadata": {
  "kernelspec": {
   "display_name": "Python 3",
   "language": "python",
   "name": "python3"
  },
  "language_info": {
   "codemirror_mode": {
    "name": "ipython",
    "version": 3
   },
   "file_extension": ".py",
   "mimetype": "text/x-python",
   "name": "python",
   "nbconvert_exporter": "python",
   "pygments_lexer": "ipython3",
   "version": "3.8.3"
  }
 },
 "nbformat": 4,
 "nbformat_minor": 4
}
