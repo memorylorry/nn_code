{
 "cells": [
  {
   "cell_type": "markdown",
   "metadata": {},
   "source": [
    "[Series官网文档](https://pandas.pydata.org/docs/reference/series.html)"
   ]
  },
  {
   "cell_type": "markdown",
   "metadata": {},
   "source": [
    "## Series - 带轴标签的一维序列（如时序序列），特点如下:\n",
    "\n",
    "1. 标签不需要唯一，但必须得是可以hash的类型。\n",
    "2. 序列支持基于‘整型’和‘字符标签’的索引方式；并且还提供了一系列关于索引的操作。\n",
    "3. pandas内部重写了“ndarray实现的统计方法”，它会自动地忽略遗失的数据（如NaN）\n",
    "4. 序列之间的+-/*操作，是基于对应索引位上的值的运算；而且它们不需要等长也可以运算；结果的索引将会是2个序列的索引的一个联合。"
   ]
  },
  {
   "cell_type": "code",
   "execution_count": 6,
   "metadata": {},
   "outputs": [],
   "source": [
    "import pandas as pd"
   ]
  },
  {
   "cell_type": "code",
   "execution_count": 9,
   "metadata": {},
   "outputs": [],
   "source": [
    "# 通过list构造Series\n",
    "list = [7,3,8,2]\n",
    "s1 = pd.Series(\n",
    "            data=list,\n",
    "            dtype=pd.Int16Dtype,\n",
    "            copy=False\n",
    "        )"
   ]
  },
  {
   "cell_type": "markdown",
   "metadata": {},
   "source": [
    "### 1. 测试copy字段效果"
   ]
  },
  {
   "cell_type": "code",
   "execution_count": 11,
   "metadata": {
    "scrolled": false
   },
   "outputs": [
    {
     "name": "stdout",
     "output_type": "stream",
     "text": [
      "0    999\n",
      "1      3\n",
      "2      8\n",
      "3      2\n",
      "dtype: object\n",
      "[7, 3, 8, 2]\n"
     ]
    }
   ],
   "source": [
    "s1[0] = 999 # 更改s1的0号元素\n",
    "print(s1)   \n",
    "print(list)"
   ]
  },
  {
   "cell_type": "markdown",
   "metadata": {},
   "source": [
    "### 总结： 说明这2个对象未公用了同1数据单元？需要官方解释。"
   ]
  },
  {
   "cell_type": "code",
   "execution_count": null,
   "metadata": {},
   "outputs": [],
   "source": []
  }
 ],
 "metadata": {
  "kernelspec": {
   "display_name": "Python 3",
   "language": "python",
   "name": "python3"
  },
  "language_info": {
   "codemirror_mode": {
    "name": "ipython",
    "version": 3
   },
   "file_extension": ".py",
   "mimetype": "text/x-python",
   "name": "python",
   "nbconvert_exporter": "python",
   "pygments_lexer": "ipython3",
   "version": "3.7.7"
  }
 },
 "nbformat": 4,
 "nbformat_minor": 4
}
