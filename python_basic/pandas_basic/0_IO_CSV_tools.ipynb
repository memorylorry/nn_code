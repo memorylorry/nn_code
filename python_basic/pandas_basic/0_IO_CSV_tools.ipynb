{
 "cells": [
  {
   "cell_type": "markdown",
   "metadata": {},
   "source": [
    "[IO使用参考](https://pandas.pydata.org/docs/user_guide/io.html)"
   ]
  },
  {
   "cell_type": "code",
   "execution_count": 1,
   "metadata": {},
   "outputs": [
    {
     "name": "stderr",
     "output_type": "stream",
     "text": [
      "/home/darling/py_project/env/lib/python3.7/site-packages/pandas/compat/__init__.py:117: UserWarning: Could not import the lzma module. Your installed Python is incomplete. Attempting to use lzma compression will result in a RuntimeError.\n",
      "  warnings.warn(msg)\n"
     ]
    }
   ],
   "source": [
    "import pandas as pd"
   ]
  },
  {
   "cell_type": "markdown",
   "metadata": {},
   "source": [
    "### 1. 获取无标题的CSV"
   ]
  },
  {
   "cell_type": "code",
   "execution_count": 2,
   "metadata": {},
   "outputs": [],
   "source": [
    "df:pd.DataFrame = pd.read_csv('data_without_title.csv',\n",
    "                              sep=',',\n",
    "                              header=None,\n",
    "                              names=['date','open','high','close','low','volume','price_change'] # 定义列名\n",
    "                             )"
   ]
  },
  {
   "cell_type": "code",
   "execution_count": 3,
   "metadata": {},
   "outputs": [
    {
     "data": {
      "text/plain": [
       "RangeIndex(start=0, stop=82, step=1)"
      ]
     },
     "execution_count": 3,
     "metadata": {},
     "output_type": "execute_result"
    }
   ],
   "source": [
    "df.index # 获取dataFrame的索引"
   ]
  },
  {
   "cell_type": "code",
   "execution_count": 4,
   "metadata": {},
   "outputs": [
    {
     "data": {
      "text/plain": [
       "Index(['date', 'open', 'high', 'close', 'low', 'volume', 'price_change'], dtype='object')"
      ]
     },
     "execution_count": 4,
     "metadata": {},
     "output_type": "execute_result"
    }
   ],
   "source": [
    "df.columns # 获取dataFrame的列名"
   ]
  },
  {
   "cell_type": "code",
   "execution_count": 5,
   "metadata": {},
   "outputs": [
    {
     "data": {
      "text/plain": [
       "0     24.44\n",
       "1     24.45\n",
       "2     23.86\n",
       "3     25.03\n",
       "4     25.56\n",
       "      ...  \n",
       "77    31.71\n",
       "78    31.65\n",
       "79    31.70\n",
       "80    31.15\n",
       "81    30.39\n",
       "Name: open, Length: 82, dtype: float64"
      ]
     },
     "execution_count": 5,
     "metadata": {},
     "output_type": "execute_result"
    }
   ],
   "source": [
    "df['open']  # 根据标签进行索引数据"
   ]
  },
  {
   "cell_type": "markdown",
   "metadata": {},
   "source": [
    "### 2. 获取有标题的CSV"
   ]
  },
  {
   "cell_type": "code",
   "execution_count": 6,
   "metadata": {},
   "outputs": [],
   "source": [
    "df2:pd.DataFrame=pd.read_csv(\n",
    "                                filepath_or_buffer='data.csv',\n",
    "                                sep=',',\n",
    "                                header=0,    # 指定标题行\n",
    "                                index_col=0,  # 指定索引列\n",
    "                                usecols=[0,1,2] # 指定使用的列\n",
    "                             )"
   ]
  },
  {
   "cell_type": "code",
   "execution_count": 7,
   "metadata": {},
   "outputs": [
    {
     "data": {
      "text/plain": [
       "Index(['2020-03-04', '2020-03-03', '2020-03-02', '2020-02-28', '2020-02-27',\n",
       "       '2020-02-26', '2020-02-25', '2020-02-24', '2020-02-21', '2020-02-20',\n",
       "       '2020-02-19', '2020-02-18', '2020-02-17', '2020-02-14', '2020-02-13',\n",
       "       '2020-02-12', '2020-02-11', '2020-02-10', '2020-02-07', '2020-02-06',\n",
       "       '2020-02-05', '2020-02-04', '2020-02-03', '2020-01-23', '2020-01-22',\n",
       "       '2020-01-21', '2020-01-20', '2020-01-17', '2020-01-16', '2020-01-15',\n",
       "       '2020-01-14', '2020-01-13', '2020-01-10', '2020-01-09', '2020-01-08',\n",
       "       '2020-01-07', '2020-01-06', '2020-01-03', '2020-01-02', '2019-12-31',\n",
       "       '2019-12-30', '2019-12-27', '2019-12-26', '2019-12-25', '2019-12-24',\n",
       "       '2019-12-23', '2019-12-20', '2019-12-19', '2019-12-18', '2019-12-17',\n",
       "       '2019-12-16', '2019-12-13', '2019-12-12', '2019-12-11', '2019-12-10',\n",
       "       '2019-12-09', '2019-12-06', '2019-12-05', '2019-12-04', '2019-12-03',\n",
       "       '2019-12-02', '2019-11-29', '2019-11-28', '2019-11-27', '2019-11-26',\n",
       "       '2019-11-25', '2019-11-22', '2019-11-21', '2019-11-20', '2019-11-19',\n",
       "       '2019-11-18', '2019-11-15', '2019-11-14', '2019-11-13', '2019-11-12',\n",
       "       '2019-11-11', '2019-11-08', '2019-11-07', '2019-11-06', '2019-11-05',\n",
       "       '2019-11-04', '2019-11-01'],\n",
       "      dtype='object', name='date')"
      ]
     },
     "execution_count": 7,
     "metadata": {},
     "output_type": "execute_result"
    }
   ],
   "source": [
    "df2.index"
   ]
  },
  {
   "cell_type": "code",
   "execution_count": 8,
   "metadata": {},
   "outputs": [
    {
     "data": {
      "text/plain": [
       "Index(['open', 'high'], dtype='object')"
      ]
     },
     "execution_count": 8,
     "metadata": {},
     "output_type": "execute_result"
    }
   ],
   "source": [
    "df2.columns"
   ]
  }
 ],
 "metadata": {
  "kernelspec": {
   "display_name": "Python 3",
   "language": "python",
   "name": "python3"
  },
  "language_info": {
   "codemirror_mode": {
    "name": "ipython",
    "version": 3
   },
   "file_extension": ".py",
   "mimetype": "text/x-python",
   "name": "python",
   "nbconvert_exporter": "python",
   "pygments_lexer": "ipython3",
   "version": "3.7.7"
  }
 },
 "nbformat": 4,
 "nbformat_minor": 4
}
